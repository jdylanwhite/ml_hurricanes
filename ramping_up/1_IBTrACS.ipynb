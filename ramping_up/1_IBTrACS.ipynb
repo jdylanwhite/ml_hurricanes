{
 "cells": [
  {
   "cell_type": "markdown",
   "metadata": {},
   "source": [
    "# IBTrACS Data\n",
    "\n",
    "The IBTrACS, or International Best Track Archive for Climate Stewardship (IBTrACS) data contains a history of tropical storm data. It is stored by [NOAA's National Climatic Data Center (NCDC)](https://www.ncdc.noaa.gov/ibtracs/). Let's load the data and explore it in Python.\n",
    "\n",
    "## Import Modules\n",
    "\n",
    "Let's start by importing the modules we need."
   ]
  },
  {
   "cell_type": "code",
   "execution_count": null,
   "metadata": {},
   "outputs": [],
   "source": [
    "import urllib\n",
    "import os\n",
    "import pandas as pd\n",
    "import matplotlib.pyplot as plt\n",
    "import numpy as np"
   ]
  },
  {
   "cell_type": "markdown",
   "metadata": {},
   "source": [
    "## Download the Data\n",
    "\n",
    "Now we need to download the IBTrACS data. It isn't very large, so it shouldn't take too long."
   ]
  },
  {
   "cell_type": "code",
   "execution_count": null,
   "metadata": {},
   "outputs": [],
   "source": [
    "# Set the URL\n",
    "url = 'https://www.ncei.noaa.gov/data/'+\\\n",
    "      'international-best-track-archive-for-climate-stewardship-ibtracs/'+\\\n",
    "      'v04r00/access/csv/ibtracs.NA.list.v04r00.csv'\n",
    "\n",
    "# Set the file path\n",
    "filePath = './data/ibtracs_NA.csv'\n",
    "\n",
    "# Download the file if it doesn't already exists\n",
    "if not os.path.exists(filePath):\n",
    "    urllib.request.urlretrieve(url,filePath)"
   ]
  },
  {
   "cell_type": "markdown",
   "metadata": {},
   "source": [
    "## Explore the Data\n",
    "\n",
    "There are a lot of variables here, but we will only need a handful. Some of the pertinent variables and their descriptions are provided below (from the IBTrACS documentation):\n",
    "\n",
    "Variable Name | Description\n",
    "--- | ---\n",
    "`numobs` | the number of observations for each storm\n",
    "`sid` | a unique storm identifier (SID) assigned by IBTrACS algorithm\n",
    "`season` | year the storm began\n",
    "`number` | number of the storm for the year (restarts at 1 for each year)\n",
    "`basin` | basin of the current storm position\n",
    "`subbasin` | sub-basin of the current storm position\n",
    "`name` | name of system give by source (if available)\n",
    "`iso_time` | time of the observation in ISO format (YYYY-MM-DD hh:mm:ss)\n",
    "`nature` | type of storm (a combination of the various types from the available sources)\n",
    "`lat` | mean position - latitude (a combination of the available positions)\n",
    "`lon` | mean position - longitude (a combination of the available positions)\n",
    "`wmo_wind` | maximum sustained wind speed assigned by the responsible WMO agency\n",
    "`wmo_pres` | minimum central pressure assigned by the responsible WMO agnecy\n",
    "`track_type` | track type (main or spur). \n",
    "`dist2land` | current distance to land from current position\n",
    "`landfall` | minimum distance to land over next 3 hours (=0 means landfall)\n",
    "`iflag` | a flag identifying the type of interpolation used to fill the value at the given time\n",
    "`storm_speed` | storm translation speed (knots)\n",
    "`storm_dir` | storm translation direction (in degrees east of north)\n",
    "\n",
    "We won't necessarily keep all of these, but it's good to know what these are. Now let's read in the data and have a look at the last few values."
   ]
  },
  {
   "cell_type": "code",
   "execution_count": null,
   "metadata": {},
   "outputs": [],
   "source": [
    "# Read the data from the CSV\n",
    "df = pd.read_csv(filePath,low_memory=False,skiprows=range(1,2))\n",
    "\n",
    "# Only keep a handful of columns\n",
    "keepColumns = ['SID','SEASON','NUMBER','NAME','ISO_TIME',\n",
    "               'NATURE','LAT','LON','WMO_WIND','WMO_PRES','TRACK_TYPE',\n",
    "               'DIST2LAND','LANDFALL','IFLAG','STORM_SPEED','STORM_DIR']\n",
    "df = df[keepColumns]\n",
    "\n",
    "# Convert time strings to datetimes for better querying\n",
    "df['ISO_TIME'] = pd.to_datetime(df['ISO_TIME'])\n",
    "df['SEASON'] = pd.to_numeric(df['SEASON'])\n",
    "df['NUMBER'] = pd.to_numeric(df['NUMBER'])\n",
    "df['LAT'] = pd.to_numeric(df['LAT'])\n",
    "df['LON'] = pd.to_numeric(df['LON'])\n",
    "\n",
    "# Show the last few records\n",
    "df.tail()"
   ]
  },
  {
   "cell_type": "markdown",
   "metadata": {},
   "source": [
    "We can query the dataframe to make data analysis a bit easier. For example, let's see how many named storms are in the entire dataset."
   ]
  },
  {
   "cell_type": "code",
   "execution_count": null,
   "metadata": {},
   "outputs": [],
   "source": [
    "df[df['NAME'] !='NOT_NAMED'].groupby(['SEASON', 'NAME']).size()"
   ]
  },
  {
   "cell_type": "markdown",
   "metadata": {},
   "source": [
    "We can also query seasons. Let's see the unique named storms this year."
   ]
  },
  {
   "cell_type": "code",
   "execution_count": null,
   "metadata": {},
   "outputs": [],
   "source": [
    "df[(df['SEASON']==2020) & (df['NAME']!='NOT_NAMED')]['NAME'].unique().tolist()"
   ]
  },
  {
   "cell_type": "markdown",
   "metadata": {},
   "source": [
    "## Accumulated Cyclone Energy\n",
    "\n",
    "Let's explore the data a bit more. Accumulated Cyclone Energy (ACE) is defined as the cummulative kinetic energy over the season for every six hours when the winds of above 35 knots. As these numbers are often quite large, they are scaled down by a factor of 10000. Let's subset the whole IBTrACS to six-hourly data which winds below this threshold. It's a little more nuanced than what I'm doing here, but it's still roughly the same idea."
   ]
  },
  {
   "cell_type": "code",
   "execution_count": null,
   "metadata": {},
   "outputs": [],
   "source": [
    "df = df[df['ISO_TIME'].dt.hour.isin([0,6,12,18])]\n",
    "df[\"WMO_WIND\"] = pd.to_numeric(df[df['WMO_WIND']!=\" \"][\"WMO_WIND\"])\n",
    "df = df[df[\"WMO_WIND\"]>=35]"
   ]
  },
  {
   "cell_type": "markdown",
   "metadata": {},
   "source": [
    "Now let's subset the data and calculate the ACE based on the formula."
   ]
  },
  {
   "cell_type": "code",
   "execution_count": null,
   "metadata": {},
   "outputs": [],
   "source": [
    "years = [i for i in range(1850,2020)]\n",
    "ace = [(df[df[\"SEASON\"]==year]['WMO_WIND']**2).sum()/10000. for year in years]"
   ]
  },
  {
   "cell_type": "markdown",
   "metadata": {},
   "source": [
    "And now we can plot the results."
   ]
  },
  {
   "cell_type": "code",
   "execution_count": null,
   "metadata": {},
   "outputs": [],
   "source": [
    "fig,ax = plt.subplots(figsize=(16,8));\n",
    "ax.bar(years,ace);\n",
    "ax.set_xlabel(\"Year\",fontsize=16);\n",
    "ax.set_ylabel(\"ACE\",fontsize=16);\n",
    "ax.set_title(\"Accumulated Cyclone Energy\",fontsize=22);\n",
    "ax.set_xlim(min(years),max(years));"
   ]
  },
  {
   "cell_type": "markdown",
   "metadata": {},
   "source": [
    "Let's have a look at the years with the largest ACE."
   ]
  },
  {
   "cell_type": "code",
   "execution_count": null,
   "metadata": {},
   "outputs": [],
   "source": [
    "aceSorted = sorted(ace,reverse=True)\n",
    "yearsSorted = [year for _,year in sorted(zip(ace,years),reverse=True)]\n",
    "for aceValue,year in zip(aceSorted[:10],yearsSorted[:10]):\n",
    "    print(\"Year\",year,\"\\t Ace:\",aceValue)"
   ]
  },
  {
   "cell_type": "markdown",
   "metadata": {},
   "source": [
    "Now, just because I'm curious, let's plot the \"Accumulated Accumulated Cyclon Energy\" (AACE). Basically, take all of ACE values and sum them up from the beginning of the data. If there is a large enough increase of ACE in the latest years, then we should see a notable increase in the slope of the AACE."
   ]
  },
  {
   "cell_type": "code",
   "execution_count": null,
   "metadata": {},
   "outputs": [],
   "source": [
    "fig,ax = plt.subplots(figsize=(16,8));\n",
    "ax.plot(years,np.cumsum(ace));\n",
    "ax.set_xlabel(\"Year\",fontsize=16);\n",
    "ax.set_ylabel(\"Accumulated ACE\",fontsize=16);\n",
    "ax.set_title(\"Accumulated Accumulated Cyclone Energy\",fontsize=22);\n",
    "ax.set_xlim(min(years),max(years));"
   ]
  },
  {
   "cell_type": "markdown",
   "metadata": {},
   "source": [
    "At first glance, there's not an obvious uptick in the slope. It does seem to be more positive in the last 20 to 30 years, but there are other increases and decreases in the slope throughout the years."
   ]
  }
 ],
 "metadata": {
  "kernelspec": {
   "display_name": "Python 3",
   "language": "python",
   "name": "python3"
  },
  "language_info": {
   "codemirror_mode": {
    "name": "ipython",
    "version": 3
   },
   "file_extension": ".py",
   "mimetype": "text/x-python",
   "name": "python",
   "nbconvert_exporter": "python",
   "pygments_lexer": "ipython3",
   "version": "3.7.6-final"
  }
 },
 "nbformat": 4,
 "nbformat_minor": 4
}