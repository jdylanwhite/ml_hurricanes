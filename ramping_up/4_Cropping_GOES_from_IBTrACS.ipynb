{
 "metadata": {
  "language_info": {
   "codemirror_mode": {
    "name": "ipython",
    "version": 3
   },
   "file_extension": ".py",
   "mimetype": "text/x-python",
   "name": "python",
   "nbconvert_exporter": "python",
   "pygments_lexer": "ipython3",
   "version": "3.7.6-final"
  },
  "orig_nbformat": 2,
  "kernelspec": {
   "name": "basemap",
   "display_name": "basemap"
  }
 },
 "nbformat": 4,
 "nbformat_minor": 2,
 "cells": [
  {
   "source": [
    "# Cropping GOES Imagery from IBTrACS\n",
    "\n",
    "Now that we can properly project and cross-reference GOES data, let's try using the IBTrACS data to find where the storm is on an image and crop the image. We'll use the same example, Hurricane Harvey in 2017, to drive the example here again.\n",
    "\n",
    "In hindsight, I realize that this isn't very different from the previous notebook. I started this notebook because I need a way to identify if a point in latitude/longitude space in the IBTrACS data was actually on the visible full disc GOES image. I had started this complicated method where I convert every pixel in the GOES image into a meshed grid of latitudes/longitudes, find the closest latitude and logitude in the image to the IBTrACS latitude and longitude, and then use that to determine whether or not the IBTrACS point was on the image. But performing calculations and comparisons on 10000 by 10000 element arrays is quite cumbersom. Then I realized that I can do it the other way - convert the latitude/longitude to the GOES projection and then find its closest point in the much smaller 10000 by 1 $x$ and $y$ arrays stored in the GOES netCDF file. I think I'll still have to use the meshed grid to see if the closest point is on the disc, but this will now be a much shorter process, since I don't need to find the closest latitude and longitude on that large array.\n",
    "\n",
    "## Import Functions\n",
    "\n",
    "Let's import functions we'll need. I've also created functions to handle some of the steps from the previous notebooks in `utils.py`."
   ],
   "cell_type": "markdown",
   "metadata": {}
  },
  {
   "cell_type": "code",
   "execution_count": null,
   "metadata": {},
   "outputs": [],
   "source": [
    "import utils\n",
    "import datetime\n",
    "import numpy as np\n",
    "from pyproj import Proj\n",
    "import matplotlib.pyplot as plt"
   ]
  },
  {
   "source": [
    "## Read IBTrACS Data\n",
    "\n",
    "Now let's read in the IBTrACS data, separating out Hurricane Harvey in 2017."
   ],
   "cell_type": "markdown",
   "metadata": {}
  },
  {
   "cell_type": "code",
   "execution_count": null,
   "metadata": {},
   "outputs": [],
   "source": [
    "ibtracsPath = utils.download_ibtracs(basin=\"NA\",overwrite=False)\n",
    "dfTracks = utils.read_ibtracs(ibtracsPath,True,2017,2017)\n",
    "dfTracks = dfTracks[dfTracks[\"NAME\"]==\"HARVEY\"]\n",
    "dfTracks.head()"
   ]
  },
  {
   "source": [
    "## Fetch GOES16 Imagery\n",
    "\n",
    "Now we'll fetch the same GOES16 image as last time."
   ],
   "cell_type": "markdown",
   "metadata": {}
  },
  {
   "cell_type": "code",
   "execution_count": null,
   "metadata": {},
   "outputs": [],
   "source": [
    "date = datetime.datetime(2017,8,25,18)\n",
    "ds = utils.get_goes16(date,product='ABI-L1b-RadF',band=3)"
   ]
  },
  {
   "source": [
    "## Define Projections and Locate the Storm\n",
    "\n",
    "We need to find the location of the IBTrACS data in the image, so we'll convert the storm's latitude and longitude into the same projection as the GOES imagery, identify the storm center on the image, and then plot a cropped storm with a buffer around the center of the storm."
   ],
   "cell_type": "markdown",
   "metadata": {}
  },
  {
   "cell_type": "code",
   "execution_count": null,
   "metadata": {},
   "outputs": [],
   "source": [
    "# Get the latitudes/longitudes of the Hurricane Harvey track data\n",
    "dfTracks = dfTracks[dfTracks['ISO_TIME']==date]\n",
    "trackLat = float(dfTracks['LAT'])\n",
    "trackLon = float(dfTracks['LON'])\n",
    "\n",
    "# Get dataset projection data\n",
    "satHeight = ds.goes_imager_projection.perspective_point_height\n",
    "satLon = ds.goes_imager_projection.longitude_of_projection_origin\n",
    "satSweep = ds.goes_imager_projection.sweep_angle_axis\n",
    "majorMinorAxes = (ds.goes_imager_projection.semi_major_axis,ds.goes_imager_projection.semi_minor_axis)\n",
    "\n",
    "# Create a pyproj geostationary map object\n",
    "p = Proj(proj='geos', h=satHeight, lon_0=satLon, sweep=satSweep)\n",
    "\n",
    "# Convert lon/lat to x/y\n",
    "trackX,trackY = p(trackLon,trackLat)\n",
    "\n",
    "# The projection x and y coordinates equals the scanning angle (in radians) multiplied by the satellite height\n",
    "x = ds.variables['x'][:] * satHeight\n",
    "y = ds.variables['y'][:] * satHeight\n",
    "\n",
    "# Get the closest point to the IBTrACS data\n",
    "xInd = np.nanargmin(abs(x-trackX))\n",
    "yInd = np.nanargmin(abs(y-trackY))\n",
    "\n",
    "# Plot a cropped with a buffer around the closest point of the storm\n",
    "buffer = 300\n",
    "plt.figure(figsize=(10,10));\n",
    "plt.imshow(ds.Rad[yInd-buffer:yInd+buffer,xInd-buffer:xInd+buffer], cmap='gray'); \n",
    "plt.axis('off');\n",
    "plt.title('Hurricane Harvey from GOES-16, '+date.strftime(\"%m/%d/%Y\")+\" at \"+str(date.hour)+\"Z\",fontsize=18);"
   ]
  }
 ]
}