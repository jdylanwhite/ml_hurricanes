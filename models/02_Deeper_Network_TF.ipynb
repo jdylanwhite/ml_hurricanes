{
 "cells": [
  {
   "cell_type": "markdown",
   "metadata": {},
   "source": [
    "# Classifying GOES Imagery With TensorFlow\n",
    "\n",
    "We just built a simple logistic regression with a single hidden layer using `numpy` arrays, but there are libraries available that can make building more complex models more efficient. One such library is TensorFlow. A lot of the courses I took on machine learning used tensorflow, but since a lot of the code was already provided, I didn't learn much. Here, I want to build a slightly deeper model using TensorFlow. I still expect that we need a convolutional neural network to get anything useful for our image classification, so this is more of a tool to familiarize myself with TensorFlow than a valuable model for image classification.\n",
    "\n",
    "## Import modules\n",
    "\n",
    "First, let's import the modules we need. Some of the functions created when I built the logistic regression model have been placed in `utils`."
   ]
  },
  {
   "cell_type": "code",
   "execution_count": 2,
   "metadata": {},
   "outputs": [],
   "source": [
    "import tensorflow as tf\n",
    "import utils\n",
    "from tensorflow.keras.layers import Dense, Flatten, Conv2D, MaxPooling2D\n",
    "from tensorflow.keras import Model"
   ]
  },
  {
   "cell_type": "markdown",
   "metadata": {},
   "source": [
    "## Load Data\n",
    "\n",
    "As before, we now load the data as numpy arrays. Note that some of the data formatting has changed slightly, to match the TensorFlow documentation."
   ]
  },
  {
   "cell_type": "code",
   "execution_count": 3,
   "metadata": {},
   "outputs": [
    {
     "name": "stdout",
     "output_type": "stream",
     "text": [
      "Training data size: 700\n",
      "Testing data size: 300\n",
      "Shape of xTrain: (700, 498, 498, 1)\n",
      "Shape of yTrain: (700,)\n",
      "Shape of xTest: (300, 498, 498, 1)\n",
      "Shape of yTest: (300,)\n"
     ]
    }
   ],
   "source": [
    "# Build the list to load training and testing datasets\n",
    "xTrainList,yTrainList,xTestList,yTestList = utils.build_dataset(1000,0.7)\n",
    "print(\"Training data size:\",len(xTrainList))\n",
    "print(\"Testing data size:\",len(xTestList))\n",
    "\n",
    "# Load the data arrays\n",
    "xTrain, yTrain = utils.load_data(xTrainList,yTrainList)\n",
    "muTrain, sigmaTrain, xTrain = utils.normalize_samples(xTrain)\n",
    "xTest, yTest = utils.load_data(xTestList,yTestList)\n",
    "muTest, sigmaTest, xTest = utils.normalize_samples(xTest)\n",
    "print(\"Shape of xTrain: \"+str(xTrain.shape))\n",
    "print(\"Shape of yTrain: \"+str(yTrain.shape))\n",
    "print(\"Shape of xTest: \"+str(xTest.shape))\n",
    "print(\"Shape of yTest: \"+str(yTest.shape))"
   ]
  },
  {
   "cell_type": "markdown",
   "metadata": {},
   "source": [
    "Now we use `tf.data` to load, shuffle, and batch the data."
   ]
  },
  {
   "cell_type": "code",
   "execution_count": 4,
   "metadata": {},
   "outputs": [],
   "source": [
    "dsTrain = tf.data.Dataset.from_tensor_slices((xTrain,yTrain)).shuffle(10000).batch(10)\n",
    "dsTest = tf.data.Dataset.from_tensor_slices((xTest, yTest)).batch(10)"
   ]
  },
  {
   "cell_type": "code",
   "execution_count": 5,
   "metadata": {},
   "outputs": [],
   "source": [
    "class MyModel(Model):\n",
    "    \n",
    "    def __init__(self):\n",
    "        super(MyModel, self).__init__()\n",
    "        self.conv1 = Conv2D(32, 3, activation='relu')\n",
    "        self.maxpool1 = MaxPooling2D((2, 2))\n",
    "        self.conv2 = Conv2D(64, 3, activation='relu')\n",
    "        self.maxpool2 = MaxPooling2D((2, 2))\n",
    "        self.conv3 = Conv2D(34, 3, activation='relu')\n",
    "        self.maxpool3 = MaxPooling2D((2, 2))\n",
    "        self.flatten = Flatten()\n",
    "        self.d1 = Dense(128, activation='relu')\n",
    "        self.d2 = Dense(2)\n",
    "\n",
    "    def call(self, x):\n",
    "        x = self.conv1(x)\n",
    "        x = self.maxpool1(x)\n",
    "        x = self.conv2(x)\n",
    "        x = self.maxpool2(x)\n",
    "        x = self.conv3(x)\n",
    "        x = self.maxpool3(x)\n",
    "        x = self.flatten(x)\n",
    "        x = self.d1(x)\n",
    "        return self.d2(x)\n",
    "\n",
    "# Create an instance of the model\n",
    "model = MyModel()\n",
    "\n",
    "# Define the loss function and optimizer\n",
    "loss_object = tf.keras.losses.SparseCategoricalCrossentropy(from_logits=True)\n",
    "optimizer = tf.keras.optimizers.Adam()\n",
    "\n",
    "# Define the metrics for loss and accuracy\n",
    "train_loss = tf.keras.metrics.Mean(name='train_loss')\n",
    "train_accuracy = tf.keras.metrics.SparseCategoricalAccuracy(name='train_accuracy')\n",
    "test_loss = tf.keras.metrics.Mean(name='test_loss')\n",
    "test_accuracy = tf.keras.metrics.SparseCategoricalAccuracy(name='test_accuracy')"
   ]
  },
  {
   "cell_type": "code",
   "execution_count": 6,
   "metadata": {},
   "outputs": [],
   "source": [
    "@tf.function\n",
    "def train_step(images, labels):\n",
    "    \n",
    "    with tf.GradientTape() as tape:    \n",
    "        # training=True is only needed if there are layers with different behavior during training versus inference (e.g. Dropout).\n",
    "        predictions = model(images, training=True)\n",
    "        loss = loss_object(labels, predictions)\n",
    "        gradients = tape.gradient(loss, model.trainable_variables)\n",
    "        optimizer.apply_gradients(zip(gradients, model.trainable_variables))\n",
    "\n",
    "        train_loss(loss)\n",
    "        train_accuracy(labels, predictions)\n",
    "    \n",
    "@tf.function\n",
    "def test_step(images, labels):\n",
    "    \n",
    "    # training=False is only needed if there are layers with different behavior during training versus inference (e.g. Dropout).\n",
    "    predictions = model(images, training=False)\n",
    "    t_loss = loss_object(labels, predictions)\n",
    "    \n",
    "    test_loss(t_loss)\n",
    "    test_accuracy(labels, predictions)"
   ]
  },
  {
   "cell_type": "code",
   "execution_count": 7,
   "metadata": {},
   "outputs": [
    {
     "name": "stdout",
     "output_type": "stream",
     "text": [
      "Epoch 1, Loss: 0.47923165559768677, Accuracy: 82.71428680419922, Test Loss: 0.41239938139915466, Test Accuracy: 87.66666412353516\n",
      "Epoch 2, Loss: 0.26429906487464905, Accuracy: 90.85713958740234, Test Loss: 0.2567271292209625, Test Accuracy: 91.0\n",
      "Epoch 3, Loss: 0.15227936208248138, Accuracy: 95.28571319580078, Test Loss: 0.272224098443985, Test Accuracy: 89.33332824707031\n",
      "Epoch 4, Loss: 0.08242031186819077, Accuracy: 96.71428680419922, Test Loss: 0.21976238489151, Test Accuracy: 94.0\n",
      "Epoch 5, Loss: 0.015454903244972229, Accuracy: 99.42857360839844, Test Loss: 0.27267712354660034, Test Accuracy: 92.66666412353516\n",
      "Epoch 6, Loss: 0.005630664527416229, Accuracy: 100.0, Test Loss: 0.3071818947792053, Test Accuracy: 93.0\n",
      "Epoch 7, Loss: 0.0006477537681348622, Accuracy: 100.0, Test Loss: 0.2896701991558075, Test Accuracy: 94.66666412353516\n",
      "Epoch 8, Loss: 0.00012878127745352685, Accuracy: 100.0, Test Loss: 0.29674622416496277, Test Accuracy: 94.66666412353516\n",
      "Epoch 9, Loss: 8.131034701364115e-05, Accuracy: 100.0, Test Loss: 0.30591025948524475, Test Accuracy: 94.66666412353516\n",
      "Epoch 10, Loss: 5.849673107150011e-05, Accuracy: 100.0, Test Loss: 0.3135354220867157, Test Accuracy: 95.0\n"
     ]
    }
   ],
   "source": [
    "EPOCHS = 10\n",
    "\n",
    "for epoch in range(EPOCHS):\n",
    "    \n",
    "    # Reset the metrics at the start of the next epoch\n",
    "    train_loss.reset_states()\n",
    "    train_accuracy.reset_states()\n",
    "    test_loss.reset_states()\n",
    "    test_accuracy.reset_states()\n",
    "\n",
    "    for images, labels in dsTrain:\n",
    "        train_step(images, labels)\n",
    "\n",
    "    for test_images, test_labels in dsTest:\n",
    "        test_step(test_images, test_labels)\n",
    "\n",
    "    print(f'Epoch {epoch + 1}, '\n",
    "          f'Loss: {train_loss.result()}, '\n",
    "          f'Accuracy: {train_accuracy.result() * 100}, '\n",
    "          f'Test Loss: {test_loss.result()}, '\n",
    "          f'Test Accuracy: {test_accuracy.result() * 100}')"
   ]
  }
 ],
 "metadata": {
  "kernelspec": {
   "display_name": "Python (tf)",
   "language": "python",
   "name": "tf"
  },
  "language_info": {
   "codemirror_mode": {
    "name": "ipython",
    "version": 3
   },
   "file_extension": ".py",
   "mimetype": "text/x-python",
   "name": "python",
   "nbconvert_exporter": "python",
   "pygments_lexer": "ipython3",
   "version": "3.8.5"
  }
 },
 "nbformat": 4,
 "nbformat_minor": 4
}
